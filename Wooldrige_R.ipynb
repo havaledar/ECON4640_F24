{
  "nbformat": 4,
  "nbformat_minor": 0,
  "metadata": {
    "colab": {
      "provenance": [],
      "authorship_tag": "ABX9TyMZ4v8iyWzlZQ0eX7NlQ514",
      "include_colab_link": true
    },
    "kernelspec": {
      "name": "ir",
      "display_name": "R"
    },
    "language_info": {
      "name": "R"
    }
  },
  "cells": [
    {
      "cell_type": "markdown",
      "metadata": {
        "id": "view-in-github",
        "colab_type": "text"
      },
      "source": [
        "<a href=\"https://colab.research.google.com/github/havaledar/ECON4640_F24/blob/main/Wooldrige_R.ipynb\" target=\"_parent\"><img src=\"https://colab.research.google.com/assets/colab-badge.svg\" alt=\"Open In Colab\"/></a>"
      ]
    },
    {
      "cell_type": "markdown",
      "source": [
        "Install the Wooldridge package"
      ],
      "metadata": {
        "id": "vmppVBlSauz6"
      }
    },
    {
      "cell_type": "code",
      "source": [
        "install.packages(\"wooldridge\")"
      ],
      "metadata": {
        "colab": {
          "base_uri": "https://localhost:8080/"
        },
        "id": "MCPM7hyjMS6S",
        "outputId": "98fc4886-bea5-447b-f8bf-7f1a2e5fb3b7"
      },
      "execution_count": 1,
      "outputs": [
        {
          "output_type": "stream",
          "name": "stderr",
          "text": [
            "Installing package into ‘/usr/local/lib/R/site-library’\n",
            "(as ‘lib’ is unspecified)\n",
            "\n"
          ]
        }
      ]
    },
    {
      "cell_type": "markdown",
      "source": [
        "Load the Wooldridge package"
      ],
      "metadata": {
        "id": "aAqw8Wh2a0W1"
      }
    },
    {
      "cell_type": "code",
      "source": [
        "library(wooldridge)"
      ],
      "metadata": {
        "id": "9EdjsTz7Mm07"
      },
      "execution_count": 2,
      "outputs": []
    },
    {
      "cell_type": "markdown",
      "source": [
        "List available datasets in the Wooldridge package"
      ],
      "metadata": {
        "id": "IwjbNR_QNVZD"
      }
    },
    {
      "cell_type": "code",
      "source": [
        "data(package = \"wooldridge\")"
      ],
      "metadata": {
        "id": "ErgHIOowMXpS"
      },
      "execution_count": 3,
      "outputs": []
    },
    {
      "cell_type": "markdown",
      "source": [
        "Load the 'wage1' dataset"
      ],
      "metadata": {
        "id": "v5ZVAH5VvNEN"
      }
    },
    {
      "cell_type": "code",
      "source": [
        "wage1"
      ],
      "metadata": {
        "colab": {
          "base_uri": "https://localhost:8080/",
          "height": 1000
        },
        "id": "U6DvqDS-NlGo",
        "outputId": "14982aa0-8704-428b-dea6-46bbc93d0801"
      },
      "execution_count": 3,
      "outputs": [
        {
          "output_type": "display_data",
          "data": {
            "text/html": [
              "<table class=\"dataframe\">\n",
              "<caption>A data.frame: 526 × 24</caption>\n",
              "<thead>\n",
              "\t<tr><th></th><th scope=col>wage</th><th scope=col>educ</th><th scope=col>exper</th><th scope=col>tenure</th><th scope=col>nonwhite</th><th scope=col>female</th><th scope=col>married</th><th scope=col>numdep</th><th scope=col>smsa</th><th scope=col>northcen</th><th scope=col>⋯</th><th scope=col>trcommpu</th><th scope=col>trade</th><th scope=col>services</th><th scope=col>profserv</th><th scope=col>profocc</th><th scope=col>clerocc</th><th scope=col>servocc</th><th scope=col>lwage</th><th scope=col>expersq</th><th scope=col>tenursq</th></tr>\n",
              "\t<tr><th></th><th scope=col>&lt;dbl&gt;</th><th scope=col>&lt;int&gt;</th><th scope=col>&lt;int&gt;</th><th scope=col>&lt;int&gt;</th><th scope=col>&lt;int&gt;</th><th scope=col>&lt;int&gt;</th><th scope=col>&lt;int&gt;</th><th scope=col>&lt;int&gt;</th><th scope=col>&lt;int&gt;</th><th scope=col>&lt;int&gt;</th><th scope=col>⋯</th><th scope=col>&lt;int&gt;</th><th scope=col>&lt;int&gt;</th><th scope=col>&lt;int&gt;</th><th scope=col>&lt;int&gt;</th><th scope=col>&lt;int&gt;</th><th scope=col>&lt;int&gt;</th><th scope=col>&lt;int&gt;</th><th scope=col>&lt;dbl&gt;</th><th scope=col>&lt;int&gt;</th><th scope=col>&lt;int&gt;</th></tr>\n",
              "</thead>\n",
              "<tbody>\n",
              "\t<tr><th scope=row>1</th><td> 3.10</td><td>11</td><td> 2</td><td> 0</td><td>0</td><td>1</td><td>0</td><td>2</td><td>1</td><td>0</td><td>⋯</td><td>0</td><td>0</td><td>0</td><td>0</td><td>0</td><td>0</td><td>0</td><td> 1.1314021</td><td>   4</td><td>  0</td></tr>\n",
              "\t<tr><th scope=row>2</th><td> 3.24</td><td>12</td><td>22</td><td> 2</td><td>0</td><td>1</td><td>1</td><td>3</td><td>1</td><td>0</td><td>⋯</td><td>0</td><td>0</td><td>1</td><td>0</td><td>0</td><td>0</td><td>1</td><td> 1.1755733</td><td> 484</td><td>  4</td></tr>\n",
              "\t<tr><th scope=row>3</th><td> 3.00</td><td>11</td><td> 2</td><td> 0</td><td>0</td><td>0</td><td>0</td><td>2</td><td>0</td><td>0</td><td>⋯</td><td>0</td><td>1</td><td>0</td><td>0</td><td>0</td><td>0</td><td>0</td><td> 1.0986123</td><td>   4</td><td>  0</td></tr>\n",
              "\t<tr><th scope=row>4</th><td> 6.00</td><td> 8</td><td>44</td><td>28</td><td>0</td><td>0</td><td>1</td><td>0</td><td>1</td><td>0</td><td>⋯</td><td>0</td><td>0</td><td>0</td><td>0</td><td>0</td><td>1</td><td>0</td><td> 1.7917595</td><td>1936</td><td>784</td></tr>\n",
              "\t<tr><th scope=row>5</th><td> 5.30</td><td>12</td><td> 7</td><td> 2</td><td>0</td><td>0</td><td>1</td><td>1</td><td>0</td><td>0</td><td>⋯</td><td>0</td><td>0</td><td>0</td><td>0</td><td>0</td><td>0</td><td>0</td><td> 1.6677068</td><td>  49</td><td>  4</td></tr>\n",
              "\t<tr><th scope=row>6</th><td> 8.75</td><td>16</td><td> 9</td><td> 8</td><td>0</td><td>0</td><td>1</td><td>0</td><td>1</td><td>0</td><td>⋯</td><td>0</td><td>0</td><td>0</td><td>1</td><td>1</td><td>0</td><td>0</td><td> 2.1690538</td><td>  81</td><td> 64</td></tr>\n",
              "\t<tr><th scope=row>7</th><td>11.25</td><td>18</td><td>15</td><td> 7</td><td>0</td><td>0</td><td>0</td><td>0</td><td>1</td><td>0</td><td>⋯</td><td>0</td><td>1</td><td>0</td><td>0</td><td>1</td><td>0</td><td>0</td><td> 2.4203682</td><td> 225</td><td> 49</td></tr>\n",
              "\t<tr><th scope=row>8</th><td> 5.00</td><td>12</td><td> 5</td><td> 3</td><td>0</td><td>1</td><td>0</td><td>0</td><td>1</td><td>0</td><td>⋯</td><td>0</td><td>0</td><td>0</td><td>0</td><td>1</td><td>0</td><td>0</td><td> 1.6094379</td><td>  25</td><td>  9</td></tr>\n",
              "\t<tr><th scope=row>9</th><td> 3.60</td><td>12</td><td>26</td><td> 4</td><td>0</td><td>1</td><td>0</td><td>2</td><td>1</td><td>0</td><td>⋯</td><td>0</td><td>1</td><td>0</td><td>0</td><td>1</td><td>0</td><td>0</td><td> 1.2809339</td><td> 676</td><td> 16</td></tr>\n",
              "\t<tr><th scope=row>10</th><td>18.18</td><td>17</td><td>22</td><td>21</td><td>0</td><td>0</td><td>1</td><td>0</td><td>1</td><td>0</td><td>⋯</td><td>0</td><td>0</td><td>0</td><td>0</td><td>1</td><td>0</td><td>0</td><td> 2.9003222</td><td> 484</td><td>441</td></tr>\n",
              "\t<tr><th scope=row>11</th><td> 6.25</td><td>16</td><td> 8</td><td> 2</td><td>0</td><td>1</td><td>0</td><td>0</td><td>1</td><td>0</td><td>⋯</td><td>0</td><td>1</td><td>0</td><td>0</td><td>1</td><td>0</td><td>0</td><td> 1.8325815</td><td>  64</td><td>  4</td></tr>\n",
              "\t<tr><th scope=row>12</th><td> 8.13</td><td>13</td><td> 3</td><td> 0</td><td>0</td><td>1</td><td>0</td><td>0</td><td>1</td><td>0</td><td>⋯</td><td>0</td><td>0</td><td>0</td><td>1</td><td>0</td><td>1</td><td>0</td><td> 2.0955610</td><td>   9</td><td>  0</td></tr>\n",
              "\t<tr><th scope=row>13</th><td> 8.77</td><td>12</td><td>15</td><td> 0</td><td>0</td><td>0</td><td>1</td><td>2</td><td>1</td><td>0</td><td>⋯</td><td>0</td><td>0</td><td>0</td><td>0</td><td>0</td><td>0</td><td>0</td><td> 2.1713369</td><td> 225</td><td>  0</td></tr>\n",
              "\t<tr><th scope=row>14</th><td> 5.50</td><td>12</td><td>18</td><td> 3</td><td>0</td><td>0</td><td>0</td><td>0</td><td>1</td><td>0</td><td>⋯</td><td>0</td><td>0</td><td>0</td><td>0</td><td>0</td><td>0</td><td>0</td><td> 1.7047480</td><td> 324</td><td>  9</td></tr>\n",
              "\t<tr><th scope=row>15</th><td>22.20</td><td>12</td><td>31</td><td>15</td><td>0</td><td>0</td><td>1</td><td>1</td><td>1</td><td>0</td><td>⋯</td><td>0</td><td>0</td><td>0</td><td>0</td><td>1</td><td>0</td><td>0</td><td> 3.1000924</td><td> 961</td><td>225</td></tr>\n",
              "\t<tr><th scope=row>16</th><td>17.33</td><td>16</td><td>14</td><td> 0</td><td>0</td><td>0</td><td>1</td><td>1</td><td>1</td><td>0</td><td>⋯</td><td>0</td><td>0</td><td>0</td><td>1</td><td>1</td><td>0</td><td>0</td><td> 2.8524392</td><td> 196</td><td>  0</td></tr>\n",
              "\t<tr><th scope=row>17</th><td> 7.50</td><td>12</td><td>10</td><td> 0</td><td>0</td><td>1</td><td>1</td><td>0</td><td>1</td><td>0</td><td>⋯</td><td>0</td><td>0</td><td>0</td><td>0</td><td>0</td><td>1</td><td>0</td><td> 2.0149031</td><td> 100</td><td>  0</td></tr>\n",
              "\t<tr><th scope=row>18</th><td>10.63</td><td>13</td><td>16</td><td>10</td><td>0</td><td>1</td><td>0</td><td>0</td><td>1</td><td>0</td><td>⋯</td><td>0</td><td>0</td><td>0</td><td>1</td><td>1</td><td>0</td><td>0</td><td> 2.3636801</td><td> 256</td><td>100</td></tr>\n",
              "\t<tr><th scope=row>19</th><td> 3.60</td><td>12</td><td>13</td><td> 0</td><td>0</td><td>1</td><td>1</td><td>3</td><td>1</td><td>0</td><td>⋯</td><td>0</td><td>0</td><td>0</td><td>0</td><td>0</td><td>0</td><td>0</td><td> 1.2809339</td><td> 169</td><td>  0</td></tr>\n",
              "\t<tr><th scope=row>20</th><td> 4.50</td><td>12</td><td>36</td><td> 6</td><td>0</td><td>1</td><td>1</td><td>0</td><td>1</td><td>0</td><td>⋯</td><td>0</td><td>0</td><td>0</td><td>1</td><td>0</td><td>0</td><td>1</td><td> 1.5040774</td><td>1296</td><td> 36</td></tr>\n",
              "\t<tr><th scope=row>21</th><td> 6.88</td><td>12</td><td>11</td><td> 4</td><td>0</td><td>1</td><td>0</td><td>0</td><td>1</td><td>0</td><td>⋯</td><td>0</td><td>0</td><td>0</td><td>1</td><td>1</td><td>0</td><td>0</td><td> 1.9286187</td><td> 121</td><td> 16</td></tr>\n",
              "\t<tr><th scope=row>22</th><td> 8.48</td><td>12</td><td>29</td><td>13</td><td>0</td><td>0</td><td>1</td><td>3</td><td>1</td><td>0</td><td>⋯</td><td>0</td><td>0</td><td>0</td><td>0</td><td>0</td><td>0</td><td>0</td><td> 2.1377103</td><td> 841</td><td>169</td></tr>\n",
              "\t<tr><th scope=row>23</th><td> 6.33</td><td>16</td><td> 9</td><td> 9</td><td>0</td><td>1</td><td>0</td><td>0</td><td>1</td><td>0</td><td>⋯</td><td>0</td><td>0</td><td>0</td><td>0</td><td>1</td><td>0</td><td>0</td><td> 1.8453002</td><td>  81</td><td> 81</td></tr>\n",
              "\t<tr><th scope=row>24</th><td> 0.53</td><td>12</td><td> 3</td><td> 1</td><td>0</td><td>1</td><td>0</td><td>0</td><td>1</td><td>0</td><td>⋯</td><td>0</td><td>0</td><td>1</td><td>0</td><td>0</td><td>0</td><td>1</td><td>-0.6348783</td><td>   9</td><td>  1</td></tr>\n",
              "\t<tr><th scope=row>25</th><td> 6.00</td><td>11</td><td>37</td><td> 8</td><td>1</td><td>1</td><td>0</td><td>0</td><td>1</td><td>0</td><td>⋯</td><td>0</td><td>0</td><td>1</td><td>0</td><td>0</td><td>0</td><td>0</td><td> 1.7917595</td><td>1369</td><td> 64</td></tr>\n",
              "\t<tr><th scope=row>26</th><td> 9.56</td><td>16</td><td> 3</td><td> 3</td><td>1</td><td>0</td><td>1</td><td>1</td><td>1</td><td>0</td><td>⋯</td><td>0</td><td>0</td><td>0</td><td>0</td><td>1</td><td>0</td><td>0</td><td> 2.2575877</td><td>   9</td><td>  9</td></tr>\n",
              "\t<tr><th scope=row>27</th><td> 7.78</td><td>16</td><td>11</td><td>10</td><td>0</td><td>0</td><td>1</td><td>1</td><td>1</td><td>0</td><td>⋯</td><td>1</td><td>0</td><td>0</td><td>0</td><td>0</td><td>0</td><td>0</td><td> 2.0515563</td><td> 121</td><td>100</td></tr>\n",
              "\t<tr><th scope=row>28</th><td>12.50</td><td>16</td><td>31</td><td> 0</td><td>0</td><td>0</td><td>1</td><td>0</td><td>1</td><td>0</td><td>⋯</td><td>0</td><td>0</td><td>0</td><td>0</td><td>1</td><td>0</td><td>0</td><td> 2.5257287</td><td> 961</td><td>  0</td></tr>\n",
              "\t<tr><th scope=row>29</th><td>12.50</td><td>15</td><td>30</td><td> 0</td><td>0</td><td>0</td><td>1</td><td>2</td><td>1</td><td>0</td><td>⋯</td><td>0</td><td>0</td><td>0</td><td>0</td><td>1</td><td>0</td><td>0</td><td> 2.5257287</td><td> 900</td><td>  0</td></tr>\n",
              "\t<tr><th scope=row>30</th><td> 3.25</td><td> 8</td><td> 9</td><td> 1</td><td>0</td><td>1</td><td>1</td><td>2</td><td>1</td><td>0</td><td>⋯</td><td>0</td><td>0</td><td>0</td><td>0</td><td>0</td><td>0</td><td>0</td><td> 1.1786550</td><td>  81</td><td>  1</td></tr>\n",
              "\t<tr><th scope=row>⋮</th><td>⋮</td><td>⋮</td><td>⋮</td><td>⋮</td><td>⋮</td><td>⋮</td><td>⋮</td><td>⋮</td><td>⋮</td><td>⋮</td><td>⋱</td><td>⋮</td><td>⋮</td><td>⋮</td><td>⋮</td><td>⋮</td><td>⋮</td><td>⋮</td><td>⋮</td><td>⋮</td><td>⋮</td></tr>\n",
              "\t<tr><th scope=row>497</th><td>12.50</td><td>14</td><td>40</td><td>30</td><td>0</td><td>0</td><td>1</td><td>0</td><td>1</td><td>1</td><td>⋯</td><td>0</td><td>0</td><td>0</td><td>0</td><td>1</td><td>0</td><td>0</td><td>2.5257287</td><td>1600</td><td>900</td></tr>\n",
              "\t<tr><th scope=row>498</th><td> 5.15</td><td>16</td><td>39</td><td>21</td><td>0</td><td>1</td><td>0</td><td>0</td><td>1</td><td>0</td><td>⋯</td><td>0</td><td>0</td><td>0</td><td>1</td><td>0</td><td>1</td><td>0</td><td>1.6389967</td><td>1521</td><td>441</td></tr>\n",
              "\t<tr><th scope=row>499</th><td> 3.13</td><td>10</td><td> 1</td><td> 1</td><td>0</td><td>0</td><td>0</td><td>2</td><td>1</td><td>0</td><td>⋯</td><td>0</td><td>1</td><td>0</td><td>0</td><td>0</td><td>0</td><td>1</td><td>1.1410331</td><td>   1</td><td>  1</td></tr>\n",
              "\t<tr><th scope=row>500</th><td> 7.25</td><td>12</td><td>14</td><td> 5</td><td>0</td><td>0</td><td>1</td><td>3</td><td>1</td><td>0</td><td>⋯</td><td>1</td><td>0</td><td>0</td><td>0</td><td>0</td><td>0</td><td>0</td><td>1.9810015</td><td> 196</td><td> 25</td></tr>\n",
              "\t<tr><th scope=row>501</th><td> 2.90</td><td>12</td><td> 2</td><td> 2</td><td>0</td><td>1</td><td>0</td><td>0</td><td>1</td><td>0</td><td>⋯</td><td>0</td><td>0</td><td>0</td><td>1</td><td>0</td><td>1</td><td>0</td><td>1.0647107</td><td>   4</td><td>  4</td></tr>\n",
              "\t<tr><th scope=row>502</th><td> 1.75</td><td>11</td><td> 2</td><td> 1</td><td>0</td><td>0</td><td>0</td><td>2</td><td>1</td><td>0</td><td>⋯</td><td>0</td><td>1</td><td>0</td><td>0</td><td>0</td><td>0</td><td>1</td><td>0.5596158</td><td>   4</td><td>  1</td></tr>\n",
              "\t<tr><th scope=row>503</th><td> 2.89</td><td> 0</td><td>42</td><td> 0</td><td>0</td><td>1</td><td>1</td><td>2</td><td>0</td><td>0</td><td>⋯</td><td>0</td><td>0</td><td>1</td><td>0</td><td>0</td><td>0</td><td>0</td><td>1.0612565</td><td>1764</td><td>  0</td></tr>\n",
              "\t<tr><th scope=row>504</th><td> 2.90</td><td> 5</td><td>34</td><td> 0</td><td>0</td><td>1</td><td>1</td><td>5</td><td>0</td><td>0</td><td>⋯</td><td>0</td><td>0</td><td>0</td><td>0</td><td>0</td><td>0</td><td>0</td><td>1.0647107</td><td>1156</td><td>  0</td></tr>\n",
              "\t<tr><th scope=row>505</th><td>17.71</td><td>16</td><td>10</td><td> 3</td><td>0</td><td>0</td><td>1</td><td>1</td><td>1</td><td>0</td><td>⋯</td><td>0</td><td>0</td><td>0</td><td>0</td><td>1</td><td>0</td><td>0</td><td>2.8741293</td><td> 100</td><td>  9</td></tr>\n",
              "\t<tr><th scope=row>506</th><td> 6.25</td><td>16</td><td> 4</td><td> 3</td><td>0</td><td>0</td><td>1</td><td>0</td><td>0</td><td>0</td><td>⋯</td><td>1</td><td>0</td><td>0</td><td>0</td><td>0</td><td>0</td><td>1</td><td>1.8325815</td><td>  16</td><td>  9</td></tr>\n",
              "\t<tr><th scope=row>507</th><td> 2.60</td><td> 9</td><td> 4</td><td> 0</td><td>0</td><td>0</td><td>0</td><td>1</td><td>0</td><td>0</td><td>⋯</td><td>0</td><td>1</td><td>0</td><td>0</td><td>0</td><td>0</td><td>0</td><td>0.9555114</td><td>  16</td><td>  0</td></tr>\n",
              "\t<tr><th scope=row>508</th><td> 6.63</td><td>15</td><td>21</td><td> 3</td><td>0</td><td>1</td><td>1</td><td>2</td><td>0</td><td>0</td><td>⋯</td><td>0</td><td>0</td><td>0</td><td>1</td><td>1</td><td>0</td><td>0</td><td>1.8916048</td><td> 441</td><td>  9</td></tr>\n",
              "\t<tr><th scope=row>509</th><td> 3.50</td><td>12</td><td>31</td><td> 3</td><td>1</td><td>1</td><td>0</td><td>1</td><td>1</td><td>0</td><td>⋯</td><td>0</td><td>0</td><td>1</td><td>0</td><td>0</td><td>0</td><td>0</td><td>1.2527629</td><td> 961</td><td>  9</td></tr>\n",
              "\t<tr><th scope=row>510</th><td> 6.50</td><td>12</td><td>20</td><td>14</td><td>0</td><td>0</td><td>1</td><td>3</td><td>1</td><td>0</td><td>⋯</td><td>0</td><td>1</td><td>0</td><td>0</td><td>0</td><td>0</td><td>0</td><td>1.8718022</td><td> 400</td><td>196</td></tr>\n",
              "\t<tr><th scope=row>511</th><td> 3.00</td><td>12</td><td>36</td><td> 1</td><td>1</td><td>1</td><td>0</td><td>0</td><td>1</td><td>0</td><td>⋯</td><td>0</td><td>0</td><td>1</td><td>0</td><td>0</td><td>0</td><td>0</td><td>1.0986123</td><td>1296</td><td>  1</td></tr>\n",
              "\t<tr><th scope=row>512</th><td> 4.38</td><td>13</td><td> 7</td><td> 0</td><td>1</td><td>0</td><td>1</td><td>1</td><td>1</td><td>0</td><td>⋯</td><td>0</td><td>0</td><td>0</td><td>0</td><td>0</td><td>0</td><td>0</td><td>1.4770488</td><td>  49</td><td>  0</td></tr>\n",
              "\t<tr><th scope=row>513</th><td>10.00</td><td>12</td><td>15</td><td> 0</td><td>0</td><td>0</td><td>0</td><td>1</td><td>0</td><td>0</td><td>⋯</td><td>0</td><td>0</td><td>1</td><td>0</td><td>1</td><td>0</td><td>0</td><td>2.3025851</td><td> 225</td><td>  0</td></tr>\n",
              "\t<tr><th scope=row>514</th><td> 4.95</td><td> 7</td><td>25</td><td>17</td><td>0</td><td>0</td><td>1</td><td>5</td><td>0</td><td>0</td><td>⋯</td><td>0</td><td>0</td><td>0</td><td>0</td><td>0</td><td>0</td><td>0</td><td>1.5993875</td><td> 625</td><td>289</td></tr>\n",
              "\t<tr><th scope=row>515</th><td> 9.00</td><td>17</td><td> 7</td><td> 0</td><td>0</td><td>1</td><td>1</td><td>2</td><td>0</td><td>0</td><td>⋯</td><td>0</td><td>0</td><td>0</td><td>1</td><td>1</td><td>0</td><td>0</td><td>2.1972246</td><td>  49</td><td>  0</td></tr>\n",
              "\t<tr><th scope=row>516</th><td> 1.43</td><td>12</td><td>17</td><td> 0</td><td>0</td><td>1</td><td>1</td><td>2</td><td>0</td><td>0</td><td>⋯</td><td>0</td><td>1</td><td>0</td><td>0</td><td>0</td><td>0</td><td>0</td><td>0.3576744</td><td> 289</td><td>  0</td></tr>\n",
              "\t<tr><th scope=row>517</th><td> 3.08</td><td>12</td><td> 3</td><td> 1</td><td>0</td><td>0</td><td>0</td><td>0</td><td>0</td><td>0</td><td>⋯</td><td>0</td><td>0</td><td>0</td><td>1</td><td>1</td><td>0</td><td>0</td><td>1.1249295</td><td>   9</td><td>  1</td></tr>\n",
              "\t<tr><th scope=row>518</th><td> 9.33</td><td>14</td><td>12</td><td>11</td><td>0</td><td>0</td><td>1</td><td>3</td><td>0</td><td>0</td><td>⋯</td><td>0</td><td>0</td><td>0</td><td>1</td><td>1</td><td>0</td><td>0</td><td>2.2332351</td><td> 144</td><td>121</td></tr>\n",
              "\t<tr><th scope=row>519</th><td> 7.50</td><td>12</td><td>18</td><td> 5</td><td>0</td><td>0</td><td>1</td><td>2</td><td>0</td><td>0</td><td>⋯</td><td>0</td><td>1</td><td>0</td><td>0</td><td>0</td><td>0</td><td>0</td><td>2.0149031</td><td> 324</td><td> 25</td></tr>\n",
              "\t<tr><th scope=row>520</th><td> 4.75</td><td>13</td><td>47</td><td> 1</td><td>0</td><td>0</td><td>1</td><td>0</td><td>0</td><td>0</td><td>⋯</td><td>0</td><td>1</td><td>0</td><td>0</td><td>0</td><td>0</td><td>0</td><td>1.5581446</td><td>2209</td><td>  1</td></tr>\n",
              "\t<tr><th scope=row>521</th><td> 5.65</td><td>12</td><td> 2</td><td> 0</td><td>0</td><td>0</td><td>0</td><td>0</td><td>0</td><td>0</td><td>⋯</td><td>0</td><td>0</td><td>0</td><td>0</td><td>0</td><td>0</td><td>0</td><td>1.7316556</td><td>   4</td><td>  0</td></tr>\n",
              "\t<tr><th scope=row>522</th><td>15.00</td><td>16</td><td>14</td><td> 2</td><td>0</td><td>1</td><td>1</td><td>2</td><td>0</td><td>0</td><td>⋯</td><td>0</td><td>0</td><td>0</td><td>1</td><td>1</td><td>0</td><td>0</td><td>2.7080503</td><td> 196</td><td>  4</td></tr>\n",
              "\t<tr><th scope=row>523</th><td> 2.27</td><td>10</td><td> 2</td><td> 0</td><td>0</td><td>1</td><td>0</td><td>3</td><td>0</td><td>0</td><td>⋯</td><td>0</td><td>1</td><td>0</td><td>0</td><td>1</td><td>0</td><td>0</td><td>0.8197798</td><td>   4</td><td>  0</td></tr>\n",
              "\t<tr><th scope=row>524</th><td> 4.67</td><td>15</td><td>13</td><td>18</td><td>0</td><td>0</td><td>1</td><td>3</td><td>0</td><td>0</td><td>⋯</td><td>0</td><td>0</td><td>0</td><td>0</td><td>1</td><td>0</td><td>0</td><td>1.5411590</td><td> 169</td><td>324</td></tr>\n",
              "\t<tr><th scope=row>525</th><td>11.56</td><td>16</td><td> 5</td><td> 1</td><td>0</td><td>0</td><td>1</td><td>0</td><td>0</td><td>0</td><td>⋯</td><td>0</td><td>0</td><td>0</td><td>0</td><td>0</td><td>0</td><td>0</td><td>2.4475510</td><td>  25</td><td>  1</td></tr>\n",
              "\t<tr><th scope=row>526</th><td> 3.50</td><td>14</td><td> 5</td><td> 4</td><td>1</td><td>1</td><td>0</td><td>2</td><td>0</td><td>0</td><td>⋯</td><td>0</td><td>0</td><td>0</td><td>1</td><td>0</td><td>1</td><td>0</td><td>1.2527629</td><td>  25</td><td> 16</td></tr>\n",
              "</tbody>\n",
              "</table>\n"
            ],
            "text/markdown": "\nA data.frame: 526 × 24\n\n| <!--/--> | wage &lt;dbl&gt; | educ &lt;int&gt; | exper &lt;int&gt; | tenure &lt;int&gt; | nonwhite &lt;int&gt; | female &lt;int&gt; | married &lt;int&gt; | numdep &lt;int&gt; | smsa &lt;int&gt; | northcen &lt;int&gt; | ⋯ ⋯ | trcommpu &lt;int&gt; | trade &lt;int&gt; | services &lt;int&gt; | profserv &lt;int&gt; | profocc &lt;int&gt; | clerocc &lt;int&gt; | servocc &lt;int&gt; | lwage &lt;dbl&gt; | expersq &lt;int&gt; | tenursq &lt;int&gt; |\n|---|---|---|---|---|---|---|---|---|---|---|---|---|---|---|---|---|---|---|---|---|---|\n| 1 |  3.10 | 11 |  2 |  0 | 0 | 1 | 0 | 2 | 1 | 0 | ⋯ | 0 | 0 | 0 | 0 | 0 | 0 | 0 |  1.1314021 |    4 |   0 |\n| 2 |  3.24 | 12 | 22 |  2 | 0 | 1 | 1 | 3 | 1 | 0 | ⋯ | 0 | 0 | 1 | 0 | 0 | 0 | 1 |  1.1755733 |  484 |   4 |\n| 3 |  3.00 | 11 |  2 |  0 | 0 | 0 | 0 | 2 | 0 | 0 | ⋯ | 0 | 1 | 0 | 0 | 0 | 0 | 0 |  1.0986123 |    4 |   0 |\n| 4 |  6.00 |  8 | 44 | 28 | 0 | 0 | 1 | 0 | 1 | 0 | ⋯ | 0 | 0 | 0 | 0 | 0 | 1 | 0 |  1.7917595 | 1936 | 784 |\n| 5 |  5.30 | 12 |  7 |  2 | 0 | 0 | 1 | 1 | 0 | 0 | ⋯ | 0 | 0 | 0 | 0 | 0 | 0 | 0 |  1.6677068 |   49 |   4 |\n| 6 |  8.75 | 16 |  9 |  8 | 0 | 0 | 1 | 0 | 1 | 0 | ⋯ | 0 | 0 | 0 | 1 | 1 | 0 | 0 |  2.1690538 |   81 |  64 |\n| 7 | 11.25 | 18 | 15 |  7 | 0 | 0 | 0 | 0 | 1 | 0 | ⋯ | 0 | 1 | 0 | 0 | 1 | 0 | 0 |  2.4203682 |  225 |  49 |\n| 8 |  5.00 | 12 |  5 |  3 | 0 | 1 | 0 | 0 | 1 | 0 | ⋯ | 0 | 0 | 0 | 0 | 1 | 0 | 0 |  1.6094379 |   25 |   9 |\n| 9 |  3.60 | 12 | 26 |  4 | 0 | 1 | 0 | 2 | 1 | 0 | ⋯ | 0 | 1 | 0 | 0 | 1 | 0 | 0 |  1.2809339 |  676 |  16 |\n| 10 | 18.18 | 17 | 22 | 21 | 0 | 0 | 1 | 0 | 1 | 0 | ⋯ | 0 | 0 | 0 | 0 | 1 | 0 | 0 |  2.9003222 |  484 | 441 |\n| 11 |  6.25 | 16 |  8 |  2 | 0 | 1 | 0 | 0 | 1 | 0 | ⋯ | 0 | 1 | 0 | 0 | 1 | 0 | 0 |  1.8325815 |   64 |   4 |\n| 12 |  8.13 | 13 |  3 |  0 | 0 | 1 | 0 | 0 | 1 | 0 | ⋯ | 0 | 0 | 0 | 1 | 0 | 1 | 0 |  2.0955610 |    9 |   0 |\n| 13 |  8.77 | 12 | 15 |  0 | 0 | 0 | 1 | 2 | 1 | 0 | ⋯ | 0 | 0 | 0 | 0 | 0 | 0 | 0 |  2.1713369 |  225 |   0 |\n| 14 |  5.50 | 12 | 18 |  3 | 0 | 0 | 0 | 0 | 1 | 0 | ⋯ | 0 | 0 | 0 | 0 | 0 | 0 | 0 |  1.7047480 |  324 |   9 |\n| 15 | 22.20 | 12 | 31 | 15 | 0 | 0 | 1 | 1 | 1 | 0 | ⋯ | 0 | 0 | 0 | 0 | 1 | 0 | 0 |  3.1000924 |  961 | 225 |\n| 16 | 17.33 | 16 | 14 |  0 | 0 | 0 | 1 | 1 | 1 | 0 | ⋯ | 0 | 0 | 0 | 1 | 1 | 0 | 0 |  2.8524392 |  196 |   0 |\n| 17 |  7.50 | 12 | 10 |  0 | 0 | 1 | 1 | 0 | 1 | 0 | ⋯ | 0 | 0 | 0 | 0 | 0 | 1 | 0 |  2.0149031 |  100 |   0 |\n| 18 | 10.63 | 13 | 16 | 10 | 0 | 1 | 0 | 0 | 1 | 0 | ⋯ | 0 | 0 | 0 | 1 | 1 | 0 | 0 |  2.3636801 |  256 | 100 |\n| 19 |  3.60 | 12 | 13 |  0 | 0 | 1 | 1 | 3 | 1 | 0 | ⋯ | 0 | 0 | 0 | 0 | 0 | 0 | 0 |  1.2809339 |  169 |   0 |\n| 20 |  4.50 | 12 | 36 |  6 | 0 | 1 | 1 | 0 | 1 | 0 | ⋯ | 0 | 0 | 0 | 1 | 0 | 0 | 1 |  1.5040774 | 1296 |  36 |\n| 21 |  6.88 | 12 | 11 |  4 | 0 | 1 | 0 | 0 | 1 | 0 | ⋯ | 0 | 0 | 0 | 1 | 1 | 0 | 0 |  1.9286187 |  121 |  16 |\n| 22 |  8.48 | 12 | 29 | 13 | 0 | 0 | 1 | 3 | 1 | 0 | ⋯ | 0 | 0 | 0 | 0 | 0 | 0 | 0 |  2.1377103 |  841 | 169 |\n| 23 |  6.33 | 16 |  9 |  9 | 0 | 1 | 0 | 0 | 1 | 0 | ⋯ | 0 | 0 | 0 | 0 | 1 | 0 | 0 |  1.8453002 |   81 |  81 |\n| 24 |  0.53 | 12 |  3 |  1 | 0 | 1 | 0 | 0 | 1 | 0 | ⋯ | 0 | 0 | 1 | 0 | 0 | 0 | 1 | -0.6348783 |    9 |   1 |\n| 25 |  6.00 | 11 | 37 |  8 | 1 | 1 | 0 | 0 | 1 | 0 | ⋯ | 0 | 0 | 1 | 0 | 0 | 0 | 0 |  1.7917595 | 1369 |  64 |\n| 26 |  9.56 | 16 |  3 |  3 | 1 | 0 | 1 | 1 | 1 | 0 | ⋯ | 0 | 0 | 0 | 0 | 1 | 0 | 0 |  2.2575877 |    9 |   9 |\n| 27 |  7.78 | 16 | 11 | 10 | 0 | 0 | 1 | 1 | 1 | 0 | ⋯ | 1 | 0 | 0 | 0 | 0 | 0 | 0 |  2.0515563 |  121 | 100 |\n| 28 | 12.50 | 16 | 31 |  0 | 0 | 0 | 1 | 0 | 1 | 0 | ⋯ | 0 | 0 | 0 | 0 | 1 | 0 | 0 |  2.5257287 |  961 |   0 |\n| 29 | 12.50 | 15 | 30 |  0 | 0 | 0 | 1 | 2 | 1 | 0 | ⋯ | 0 | 0 | 0 | 0 | 1 | 0 | 0 |  2.5257287 |  900 |   0 |\n| 30 |  3.25 |  8 |  9 |  1 | 0 | 1 | 1 | 2 | 1 | 0 | ⋯ | 0 | 0 | 0 | 0 | 0 | 0 | 0 |  1.1786550 |   81 |   1 |\n| ⋮ | ⋮ | ⋮ | ⋮ | ⋮ | ⋮ | ⋮ | ⋮ | ⋮ | ⋮ | ⋮ | ⋱ | ⋮ | ⋮ | ⋮ | ⋮ | ⋮ | ⋮ | ⋮ | ⋮ | ⋮ | ⋮ |\n| 497 | 12.50 | 14 | 40 | 30 | 0 | 0 | 1 | 0 | 1 | 1 | ⋯ | 0 | 0 | 0 | 0 | 1 | 0 | 0 | 2.5257287 | 1600 | 900 |\n| 498 |  5.15 | 16 | 39 | 21 | 0 | 1 | 0 | 0 | 1 | 0 | ⋯ | 0 | 0 | 0 | 1 | 0 | 1 | 0 | 1.6389967 | 1521 | 441 |\n| 499 |  3.13 | 10 |  1 |  1 | 0 | 0 | 0 | 2 | 1 | 0 | ⋯ | 0 | 1 | 0 | 0 | 0 | 0 | 1 | 1.1410331 |    1 |   1 |\n| 500 |  7.25 | 12 | 14 |  5 | 0 | 0 | 1 | 3 | 1 | 0 | ⋯ | 1 | 0 | 0 | 0 | 0 | 0 | 0 | 1.9810015 |  196 |  25 |\n| 501 |  2.90 | 12 |  2 |  2 | 0 | 1 | 0 | 0 | 1 | 0 | ⋯ | 0 | 0 | 0 | 1 | 0 | 1 | 0 | 1.0647107 |    4 |   4 |\n| 502 |  1.75 | 11 |  2 |  1 | 0 | 0 | 0 | 2 | 1 | 0 | ⋯ | 0 | 1 | 0 | 0 | 0 | 0 | 1 | 0.5596158 |    4 |   1 |\n| 503 |  2.89 |  0 | 42 |  0 | 0 | 1 | 1 | 2 | 0 | 0 | ⋯ | 0 | 0 | 1 | 0 | 0 | 0 | 0 | 1.0612565 | 1764 |   0 |\n| 504 |  2.90 |  5 | 34 |  0 | 0 | 1 | 1 | 5 | 0 | 0 | ⋯ | 0 | 0 | 0 | 0 | 0 | 0 | 0 | 1.0647107 | 1156 |   0 |\n| 505 | 17.71 | 16 | 10 |  3 | 0 | 0 | 1 | 1 | 1 | 0 | ⋯ | 0 | 0 | 0 | 0 | 1 | 0 | 0 | 2.8741293 |  100 |   9 |\n| 506 |  6.25 | 16 |  4 |  3 | 0 | 0 | 1 | 0 | 0 | 0 | ⋯ | 1 | 0 | 0 | 0 | 0 | 0 | 1 | 1.8325815 |   16 |   9 |\n| 507 |  2.60 |  9 |  4 |  0 | 0 | 0 | 0 | 1 | 0 | 0 | ⋯ | 0 | 1 | 0 | 0 | 0 | 0 | 0 | 0.9555114 |   16 |   0 |\n| 508 |  6.63 | 15 | 21 |  3 | 0 | 1 | 1 | 2 | 0 | 0 | ⋯ | 0 | 0 | 0 | 1 | 1 | 0 | 0 | 1.8916048 |  441 |   9 |\n| 509 |  3.50 | 12 | 31 |  3 | 1 | 1 | 0 | 1 | 1 | 0 | ⋯ | 0 | 0 | 1 | 0 | 0 | 0 | 0 | 1.2527629 |  961 |   9 |\n| 510 |  6.50 | 12 | 20 | 14 | 0 | 0 | 1 | 3 | 1 | 0 | ⋯ | 0 | 1 | 0 | 0 | 0 | 0 | 0 | 1.8718022 |  400 | 196 |\n| 511 |  3.00 | 12 | 36 |  1 | 1 | 1 | 0 | 0 | 1 | 0 | ⋯ | 0 | 0 | 1 | 0 | 0 | 0 | 0 | 1.0986123 | 1296 |   1 |\n| 512 |  4.38 | 13 |  7 |  0 | 1 | 0 | 1 | 1 | 1 | 0 | ⋯ | 0 | 0 | 0 | 0 | 0 | 0 | 0 | 1.4770488 |   49 |   0 |\n| 513 | 10.00 | 12 | 15 |  0 | 0 | 0 | 0 | 1 | 0 | 0 | ⋯ | 0 | 0 | 1 | 0 | 1 | 0 | 0 | 2.3025851 |  225 |   0 |\n| 514 |  4.95 |  7 | 25 | 17 | 0 | 0 | 1 | 5 | 0 | 0 | ⋯ | 0 | 0 | 0 | 0 | 0 | 0 | 0 | 1.5993875 |  625 | 289 |\n| 515 |  9.00 | 17 |  7 |  0 | 0 | 1 | 1 | 2 | 0 | 0 | ⋯ | 0 | 0 | 0 | 1 | 1 | 0 | 0 | 2.1972246 |   49 |   0 |\n| 516 |  1.43 | 12 | 17 |  0 | 0 | 1 | 1 | 2 | 0 | 0 | ⋯ | 0 | 1 | 0 | 0 | 0 | 0 | 0 | 0.3576744 |  289 |   0 |\n| 517 |  3.08 | 12 |  3 |  1 | 0 | 0 | 0 | 0 | 0 | 0 | ⋯ | 0 | 0 | 0 | 1 | 1 | 0 | 0 | 1.1249295 |    9 |   1 |\n| 518 |  9.33 | 14 | 12 | 11 | 0 | 0 | 1 | 3 | 0 | 0 | ⋯ | 0 | 0 | 0 | 1 | 1 | 0 | 0 | 2.2332351 |  144 | 121 |\n| 519 |  7.50 | 12 | 18 |  5 | 0 | 0 | 1 | 2 | 0 | 0 | ⋯ | 0 | 1 | 0 | 0 | 0 | 0 | 0 | 2.0149031 |  324 |  25 |\n| 520 |  4.75 | 13 | 47 |  1 | 0 | 0 | 1 | 0 | 0 | 0 | ⋯ | 0 | 1 | 0 | 0 | 0 | 0 | 0 | 1.5581446 | 2209 |   1 |\n| 521 |  5.65 | 12 |  2 |  0 | 0 | 0 | 0 | 0 | 0 | 0 | ⋯ | 0 | 0 | 0 | 0 | 0 | 0 | 0 | 1.7316556 |    4 |   0 |\n| 522 | 15.00 | 16 | 14 |  2 | 0 | 1 | 1 | 2 | 0 | 0 | ⋯ | 0 | 0 | 0 | 1 | 1 | 0 | 0 | 2.7080503 |  196 |   4 |\n| 523 |  2.27 | 10 |  2 |  0 | 0 | 1 | 0 | 3 | 0 | 0 | ⋯ | 0 | 1 | 0 | 0 | 1 | 0 | 0 | 0.8197798 |    4 |   0 |\n| 524 |  4.67 | 15 | 13 | 18 | 0 | 0 | 1 | 3 | 0 | 0 | ⋯ | 0 | 0 | 0 | 0 | 1 | 0 | 0 | 1.5411590 |  169 | 324 |\n| 525 | 11.56 | 16 |  5 |  1 | 0 | 0 | 1 | 0 | 0 | 0 | ⋯ | 0 | 0 | 0 | 0 | 0 | 0 | 0 | 2.4475510 |   25 |   1 |\n| 526 |  3.50 | 14 |  5 |  4 | 1 | 1 | 0 | 2 | 0 | 0 | ⋯ | 0 | 0 | 0 | 1 | 0 | 1 | 0 | 1.2527629 |   25 |  16 |\n\n",
            "text/latex": "A data.frame: 526 × 24\n\\begin{tabular}{r|lllllllllllllllllllll}\n  & wage & educ & exper & tenure & nonwhite & female & married & numdep & smsa & northcen & ⋯ & trcommpu & trade & services & profserv & profocc & clerocc & servocc & lwage & expersq & tenursq\\\\\n  & <dbl> & <int> & <int> & <int> & <int> & <int> & <int> & <int> & <int> & <int> & ⋯ & <int> & <int> & <int> & <int> & <int> & <int> & <int> & <dbl> & <int> & <int>\\\\\n\\hline\n\t1 &  3.10 & 11 &  2 &  0 & 0 & 1 & 0 & 2 & 1 & 0 & ⋯ & 0 & 0 & 0 & 0 & 0 & 0 & 0 &  1.1314021 &    4 &   0\\\\\n\t2 &  3.24 & 12 & 22 &  2 & 0 & 1 & 1 & 3 & 1 & 0 & ⋯ & 0 & 0 & 1 & 0 & 0 & 0 & 1 &  1.1755733 &  484 &   4\\\\\n\t3 &  3.00 & 11 &  2 &  0 & 0 & 0 & 0 & 2 & 0 & 0 & ⋯ & 0 & 1 & 0 & 0 & 0 & 0 & 0 &  1.0986123 &    4 &   0\\\\\n\t4 &  6.00 &  8 & 44 & 28 & 0 & 0 & 1 & 0 & 1 & 0 & ⋯ & 0 & 0 & 0 & 0 & 0 & 1 & 0 &  1.7917595 & 1936 & 784\\\\\n\t5 &  5.30 & 12 &  7 &  2 & 0 & 0 & 1 & 1 & 0 & 0 & ⋯ & 0 & 0 & 0 & 0 & 0 & 0 & 0 &  1.6677068 &   49 &   4\\\\\n\t6 &  8.75 & 16 &  9 &  8 & 0 & 0 & 1 & 0 & 1 & 0 & ⋯ & 0 & 0 & 0 & 1 & 1 & 0 & 0 &  2.1690538 &   81 &  64\\\\\n\t7 & 11.25 & 18 & 15 &  7 & 0 & 0 & 0 & 0 & 1 & 0 & ⋯ & 0 & 1 & 0 & 0 & 1 & 0 & 0 &  2.4203682 &  225 &  49\\\\\n\t8 &  5.00 & 12 &  5 &  3 & 0 & 1 & 0 & 0 & 1 & 0 & ⋯ & 0 & 0 & 0 & 0 & 1 & 0 & 0 &  1.6094379 &   25 &   9\\\\\n\t9 &  3.60 & 12 & 26 &  4 & 0 & 1 & 0 & 2 & 1 & 0 & ⋯ & 0 & 1 & 0 & 0 & 1 & 0 & 0 &  1.2809339 &  676 &  16\\\\\n\t10 & 18.18 & 17 & 22 & 21 & 0 & 0 & 1 & 0 & 1 & 0 & ⋯ & 0 & 0 & 0 & 0 & 1 & 0 & 0 &  2.9003222 &  484 & 441\\\\\n\t11 &  6.25 & 16 &  8 &  2 & 0 & 1 & 0 & 0 & 1 & 0 & ⋯ & 0 & 1 & 0 & 0 & 1 & 0 & 0 &  1.8325815 &   64 &   4\\\\\n\t12 &  8.13 & 13 &  3 &  0 & 0 & 1 & 0 & 0 & 1 & 0 & ⋯ & 0 & 0 & 0 & 1 & 0 & 1 & 0 &  2.0955610 &    9 &   0\\\\\n\t13 &  8.77 & 12 & 15 &  0 & 0 & 0 & 1 & 2 & 1 & 0 & ⋯ & 0 & 0 & 0 & 0 & 0 & 0 & 0 &  2.1713369 &  225 &   0\\\\\n\t14 &  5.50 & 12 & 18 &  3 & 0 & 0 & 0 & 0 & 1 & 0 & ⋯ & 0 & 0 & 0 & 0 & 0 & 0 & 0 &  1.7047480 &  324 &   9\\\\\n\t15 & 22.20 & 12 & 31 & 15 & 0 & 0 & 1 & 1 & 1 & 0 & ⋯ & 0 & 0 & 0 & 0 & 1 & 0 & 0 &  3.1000924 &  961 & 225\\\\\n\t16 & 17.33 & 16 & 14 &  0 & 0 & 0 & 1 & 1 & 1 & 0 & ⋯ & 0 & 0 & 0 & 1 & 1 & 0 & 0 &  2.8524392 &  196 &   0\\\\\n\t17 &  7.50 & 12 & 10 &  0 & 0 & 1 & 1 & 0 & 1 & 0 & ⋯ & 0 & 0 & 0 & 0 & 0 & 1 & 0 &  2.0149031 &  100 &   0\\\\\n\t18 & 10.63 & 13 & 16 & 10 & 0 & 1 & 0 & 0 & 1 & 0 & ⋯ & 0 & 0 & 0 & 1 & 1 & 0 & 0 &  2.3636801 &  256 & 100\\\\\n\t19 &  3.60 & 12 & 13 &  0 & 0 & 1 & 1 & 3 & 1 & 0 & ⋯ & 0 & 0 & 0 & 0 & 0 & 0 & 0 &  1.2809339 &  169 &   0\\\\\n\t20 &  4.50 & 12 & 36 &  6 & 0 & 1 & 1 & 0 & 1 & 0 & ⋯ & 0 & 0 & 0 & 1 & 0 & 0 & 1 &  1.5040774 & 1296 &  36\\\\\n\t21 &  6.88 & 12 & 11 &  4 & 0 & 1 & 0 & 0 & 1 & 0 & ⋯ & 0 & 0 & 0 & 1 & 1 & 0 & 0 &  1.9286187 &  121 &  16\\\\\n\t22 &  8.48 & 12 & 29 & 13 & 0 & 0 & 1 & 3 & 1 & 0 & ⋯ & 0 & 0 & 0 & 0 & 0 & 0 & 0 &  2.1377103 &  841 & 169\\\\\n\t23 &  6.33 & 16 &  9 &  9 & 0 & 1 & 0 & 0 & 1 & 0 & ⋯ & 0 & 0 & 0 & 0 & 1 & 0 & 0 &  1.8453002 &   81 &  81\\\\\n\t24 &  0.53 & 12 &  3 &  1 & 0 & 1 & 0 & 0 & 1 & 0 & ⋯ & 0 & 0 & 1 & 0 & 0 & 0 & 1 & -0.6348783 &    9 &   1\\\\\n\t25 &  6.00 & 11 & 37 &  8 & 1 & 1 & 0 & 0 & 1 & 0 & ⋯ & 0 & 0 & 1 & 0 & 0 & 0 & 0 &  1.7917595 & 1369 &  64\\\\\n\t26 &  9.56 & 16 &  3 &  3 & 1 & 0 & 1 & 1 & 1 & 0 & ⋯ & 0 & 0 & 0 & 0 & 1 & 0 & 0 &  2.2575877 &    9 &   9\\\\\n\t27 &  7.78 & 16 & 11 & 10 & 0 & 0 & 1 & 1 & 1 & 0 & ⋯ & 1 & 0 & 0 & 0 & 0 & 0 & 0 &  2.0515563 &  121 & 100\\\\\n\t28 & 12.50 & 16 & 31 &  0 & 0 & 0 & 1 & 0 & 1 & 0 & ⋯ & 0 & 0 & 0 & 0 & 1 & 0 & 0 &  2.5257287 &  961 &   0\\\\\n\t29 & 12.50 & 15 & 30 &  0 & 0 & 0 & 1 & 2 & 1 & 0 & ⋯ & 0 & 0 & 0 & 0 & 1 & 0 & 0 &  2.5257287 &  900 &   0\\\\\n\t30 &  3.25 &  8 &  9 &  1 & 0 & 1 & 1 & 2 & 1 & 0 & ⋯ & 0 & 0 & 0 & 0 & 0 & 0 & 0 &  1.1786550 &   81 &   1\\\\\n\t⋮ & ⋮ & ⋮ & ⋮ & ⋮ & ⋮ & ⋮ & ⋮ & ⋮ & ⋮ & ⋮ & ⋱ & ⋮ & ⋮ & ⋮ & ⋮ & ⋮ & ⋮ & ⋮ & ⋮ & ⋮ & ⋮\\\\\n\t497 & 12.50 & 14 & 40 & 30 & 0 & 0 & 1 & 0 & 1 & 1 & ⋯ & 0 & 0 & 0 & 0 & 1 & 0 & 0 & 2.5257287 & 1600 & 900\\\\\n\t498 &  5.15 & 16 & 39 & 21 & 0 & 1 & 0 & 0 & 1 & 0 & ⋯ & 0 & 0 & 0 & 1 & 0 & 1 & 0 & 1.6389967 & 1521 & 441\\\\\n\t499 &  3.13 & 10 &  1 &  1 & 0 & 0 & 0 & 2 & 1 & 0 & ⋯ & 0 & 1 & 0 & 0 & 0 & 0 & 1 & 1.1410331 &    1 &   1\\\\\n\t500 &  7.25 & 12 & 14 &  5 & 0 & 0 & 1 & 3 & 1 & 0 & ⋯ & 1 & 0 & 0 & 0 & 0 & 0 & 0 & 1.9810015 &  196 &  25\\\\\n\t501 &  2.90 & 12 &  2 &  2 & 0 & 1 & 0 & 0 & 1 & 0 & ⋯ & 0 & 0 & 0 & 1 & 0 & 1 & 0 & 1.0647107 &    4 &   4\\\\\n\t502 &  1.75 & 11 &  2 &  1 & 0 & 0 & 0 & 2 & 1 & 0 & ⋯ & 0 & 1 & 0 & 0 & 0 & 0 & 1 & 0.5596158 &    4 &   1\\\\\n\t503 &  2.89 &  0 & 42 &  0 & 0 & 1 & 1 & 2 & 0 & 0 & ⋯ & 0 & 0 & 1 & 0 & 0 & 0 & 0 & 1.0612565 & 1764 &   0\\\\\n\t504 &  2.90 &  5 & 34 &  0 & 0 & 1 & 1 & 5 & 0 & 0 & ⋯ & 0 & 0 & 0 & 0 & 0 & 0 & 0 & 1.0647107 & 1156 &   0\\\\\n\t505 & 17.71 & 16 & 10 &  3 & 0 & 0 & 1 & 1 & 1 & 0 & ⋯ & 0 & 0 & 0 & 0 & 1 & 0 & 0 & 2.8741293 &  100 &   9\\\\\n\t506 &  6.25 & 16 &  4 &  3 & 0 & 0 & 1 & 0 & 0 & 0 & ⋯ & 1 & 0 & 0 & 0 & 0 & 0 & 1 & 1.8325815 &   16 &   9\\\\\n\t507 &  2.60 &  9 &  4 &  0 & 0 & 0 & 0 & 1 & 0 & 0 & ⋯ & 0 & 1 & 0 & 0 & 0 & 0 & 0 & 0.9555114 &   16 &   0\\\\\n\t508 &  6.63 & 15 & 21 &  3 & 0 & 1 & 1 & 2 & 0 & 0 & ⋯ & 0 & 0 & 0 & 1 & 1 & 0 & 0 & 1.8916048 &  441 &   9\\\\\n\t509 &  3.50 & 12 & 31 &  3 & 1 & 1 & 0 & 1 & 1 & 0 & ⋯ & 0 & 0 & 1 & 0 & 0 & 0 & 0 & 1.2527629 &  961 &   9\\\\\n\t510 &  6.50 & 12 & 20 & 14 & 0 & 0 & 1 & 3 & 1 & 0 & ⋯ & 0 & 1 & 0 & 0 & 0 & 0 & 0 & 1.8718022 &  400 & 196\\\\\n\t511 &  3.00 & 12 & 36 &  1 & 1 & 1 & 0 & 0 & 1 & 0 & ⋯ & 0 & 0 & 1 & 0 & 0 & 0 & 0 & 1.0986123 & 1296 &   1\\\\\n\t512 &  4.38 & 13 &  7 &  0 & 1 & 0 & 1 & 1 & 1 & 0 & ⋯ & 0 & 0 & 0 & 0 & 0 & 0 & 0 & 1.4770488 &   49 &   0\\\\\n\t513 & 10.00 & 12 & 15 &  0 & 0 & 0 & 0 & 1 & 0 & 0 & ⋯ & 0 & 0 & 1 & 0 & 1 & 0 & 0 & 2.3025851 &  225 &   0\\\\\n\t514 &  4.95 &  7 & 25 & 17 & 0 & 0 & 1 & 5 & 0 & 0 & ⋯ & 0 & 0 & 0 & 0 & 0 & 0 & 0 & 1.5993875 &  625 & 289\\\\\n\t515 &  9.00 & 17 &  7 &  0 & 0 & 1 & 1 & 2 & 0 & 0 & ⋯ & 0 & 0 & 0 & 1 & 1 & 0 & 0 & 2.1972246 &   49 &   0\\\\\n\t516 &  1.43 & 12 & 17 &  0 & 0 & 1 & 1 & 2 & 0 & 0 & ⋯ & 0 & 1 & 0 & 0 & 0 & 0 & 0 & 0.3576744 &  289 &   0\\\\\n\t517 &  3.08 & 12 &  3 &  1 & 0 & 0 & 0 & 0 & 0 & 0 & ⋯ & 0 & 0 & 0 & 1 & 1 & 0 & 0 & 1.1249295 &    9 &   1\\\\\n\t518 &  9.33 & 14 & 12 & 11 & 0 & 0 & 1 & 3 & 0 & 0 & ⋯ & 0 & 0 & 0 & 1 & 1 & 0 & 0 & 2.2332351 &  144 & 121\\\\\n\t519 &  7.50 & 12 & 18 &  5 & 0 & 0 & 1 & 2 & 0 & 0 & ⋯ & 0 & 1 & 0 & 0 & 0 & 0 & 0 & 2.0149031 &  324 &  25\\\\\n\t520 &  4.75 & 13 & 47 &  1 & 0 & 0 & 1 & 0 & 0 & 0 & ⋯ & 0 & 1 & 0 & 0 & 0 & 0 & 0 & 1.5581446 & 2209 &   1\\\\\n\t521 &  5.65 & 12 &  2 &  0 & 0 & 0 & 0 & 0 & 0 & 0 & ⋯ & 0 & 0 & 0 & 0 & 0 & 0 & 0 & 1.7316556 &    4 &   0\\\\\n\t522 & 15.00 & 16 & 14 &  2 & 0 & 1 & 1 & 2 & 0 & 0 & ⋯ & 0 & 0 & 0 & 1 & 1 & 0 & 0 & 2.7080503 &  196 &   4\\\\\n\t523 &  2.27 & 10 &  2 &  0 & 0 & 1 & 0 & 3 & 0 & 0 & ⋯ & 0 & 1 & 0 & 0 & 1 & 0 & 0 & 0.8197798 &    4 &   0\\\\\n\t524 &  4.67 & 15 & 13 & 18 & 0 & 0 & 1 & 3 & 0 & 0 & ⋯ & 0 & 0 & 0 & 0 & 1 & 0 & 0 & 1.5411590 &  169 & 324\\\\\n\t525 & 11.56 & 16 &  5 &  1 & 0 & 0 & 1 & 0 & 0 & 0 & ⋯ & 0 & 0 & 0 & 0 & 0 & 0 & 0 & 2.4475510 &   25 &   1\\\\\n\t526 &  3.50 & 14 &  5 &  4 & 1 & 1 & 0 & 2 & 0 & 0 & ⋯ & 0 & 0 & 0 & 1 & 0 & 1 & 0 & 1.2527629 &   25 &  16\\\\\n\\end{tabular}\n",
            "text/plain": [
              "    wage  educ exper tenure nonwhite female married numdep smsa northcen ⋯\n",
              "1    3.10 11    2     0     0        1      0       2      1    0        ⋯\n",
              "2    3.24 12   22     2     0        1      1       3      1    0        ⋯\n",
              "3    3.00 11    2     0     0        0      0       2      0    0        ⋯\n",
              "4    6.00  8   44    28     0        0      1       0      1    0        ⋯\n",
              "5    5.30 12    7     2     0        0      1       1      0    0        ⋯\n",
              "6    8.75 16    9     8     0        0      1       0      1    0        ⋯\n",
              "7   11.25 18   15     7     0        0      0       0      1    0        ⋯\n",
              "8    5.00 12    5     3     0        1      0       0      1    0        ⋯\n",
              "9    3.60 12   26     4     0        1      0       2      1    0        ⋯\n",
              "10  18.18 17   22    21     0        0      1       0      1    0        ⋯\n",
              "11   6.25 16    8     2     0        1      0       0      1    0        ⋯\n",
              "12   8.13 13    3     0     0        1      0       0      1    0        ⋯\n",
              "13   8.77 12   15     0     0        0      1       2      1    0        ⋯\n",
              "14   5.50 12   18     3     0        0      0       0      1    0        ⋯\n",
              "15  22.20 12   31    15     0        0      1       1      1    0        ⋯\n",
              "16  17.33 16   14     0     0        0      1       1      1    0        ⋯\n",
              "17   7.50 12   10     0     0        1      1       0      1    0        ⋯\n",
              "18  10.63 13   16    10     0        1      0       0      1    0        ⋯\n",
              "19   3.60 12   13     0     0        1      1       3      1    0        ⋯\n",
              "20   4.50 12   36     6     0        1      1       0      1    0        ⋯\n",
              "21   6.88 12   11     4     0        1      0       0      1    0        ⋯\n",
              "22   8.48 12   29    13     0        0      1       3      1    0        ⋯\n",
              "23   6.33 16    9     9     0        1      0       0      1    0        ⋯\n",
              "24   0.53 12    3     1     0        1      0       0      1    0        ⋯\n",
              "25   6.00 11   37     8     1        1      0       0      1    0        ⋯\n",
              "26   9.56 16    3     3     1        0      1       1      1    0        ⋯\n",
              "27   7.78 16   11    10     0        0      1       1      1    0        ⋯\n",
              "28  12.50 16   31     0     0        0      1       0      1    0        ⋯\n",
              "29  12.50 15   30     0     0        0      1       2      1    0        ⋯\n",
              "30   3.25  8    9     1     0        1      1       2      1    0        ⋯\n",
              "⋮   ⋮     ⋮    ⋮     ⋮      ⋮        ⋮      ⋮       ⋮      ⋮    ⋮        ⋱\n",
              "497 12.50 14   40    30     0        0      1       0      1    1        ⋯\n",
              "498  5.15 16   39    21     0        1      0       0      1    0        ⋯\n",
              "499  3.13 10    1     1     0        0      0       2      1    0        ⋯\n",
              "500  7.25 12   14     5     0        0      1       3      1    0        ⋯\n",
              "501  2.90 12    2     2     0        1      0       0      1    0        ⋯\n",
              "502  1.75 11    2     1     0        0      0       2      1    0        ⋯\n",
              "503  2.89  0   42     0     0        1      1       2      0    0        ⋯\n",
              "504  2.90  5   34     0     0        1      1       5      0    0        ⋯\n",
              "505 17.71 16   10     3     0        0      1       1      1    0        ⋯\n",
              "506  6.25 16    4     3     0        0      1       0      0    0        ⋯\n",
              "507  2.60  9    4     0     0        0      0       1      0    0        ⋯\n",
              "508  6.63 15   21     3     0        1      1       2      0    0        ⋯\n",
              "509  3.50 12   31     3     1        1      0       1      1    0        ⋯\n",
              "510  6.50 12   20    14     0        0      1       3      1    0        ⋯\n",
              "511  3.00 12   36     1     1        1      0       0      1    0        ⋯\n",
              "512  4.38 13    7     0     1        0      1       1      1    0        ⋯\n",
              "513 10.00 12   15     0     0        0      0       1      0    0        ⋯\n",
              "514  4.95  7   25    17     0        0      1       5      0    0        ⋯\n",
              "515  9.00 17    7     0     0        1      1       2      0    0        ⋯\n",
              "516  1.43 12   17     0     0        1      1       2      0    0        ⋯\n",
              "517  3.08 12    3     1     0        0      0       0      0    0        ⋯\n",
              "518  9.33 14   12    11     0        0      1       3      0    0        ⋯\n",
              "519  7.50 12   18     5     0        0      1       2      0    0        ⋯\n",
              "520  4.75 13   47     1     0        0      1       0      0    0        ⋯\n",
              "521  5.65 12    2     0     0        0      0       0      0    0        ⋯\n",
              "522 15.00 16   14     2     0        1      1       2      0    0        ⋯\n",
              "523  2.27 10    2     0     0        1      0       3      0    0        ⋯\n",
              "524  4.67 15   13    18     0        0      1       3      0    0        ⋯\n",
              "525 11.56 16    5     1     0        0      1       0      0    0        ⋯\n",
              "526  3.50 14    5     4     1        1      0       2      0    0        ⋯\n",
              "    trcommpu trade services profserv profocc clerocc servocc lwage      expersq\n",
              "1   0        0     0        0        0       0       0        1.1314021    4   \n",
              "2   0        0     1        0        0       0       1        1.1755733  484   \n",
              "3   0        1     0        0        0       0       0        1.0986123    4   \n",
              "4   0        0     0        0        0       1       0        1.7917595 1936   \n",
              "5   0        0     0        0        0       0       0        1.6677068   49   \n",
              "6   0        0     0        1        1       0       0        2.1690538   81   \n",
              "7   0        1     0        0        1       0       0        2.4203682  225   \n",
              "8   0        0     0        0        1       0       0        1.6094379   25   \n",
              "9   0        1     0        0        1       0       0        1.2809339  676   \n",
              "10  0        0     0        0        1       0       0        2.9003222  484   \n",
              "11  0        1     0        0        1       0       0        1.8325815   64   \n",
              "12  0        0     0        1        0       1       0        2.0955610    9   \n",
              "13  0        0     0        0        0       0       0        2.1713369  225   \n",
              "14  0        0     0        0        0       0       0        1.7047480  324   \n",
              "15  0        0     0        0        1       0       0        3.1000924  961   \n",
              "16  0        0     0        1        1       0       0        2.8524392  196   \n",
              "17  0        0     0        0        0       1       0        2.0149031  100   \n",
              "18  0        0     0        1        1       0       0        2.3636801  256   \n",
              "19  0        0     0        0        0       0       0        1.2809339  169   \n",
              "20  0        0     0        1        0       0       1        1.5040774 1296   \n",
              "21  0        0     0        1        1       0       0        1.9286187  121   \n",
              "22  0        0     0        0        0       0       0        2.1377103  841   \n",
              "23  0        0     0        0        1       0       0        1.8453002   81   \n",
              "24  0        0     1        0        0       0       1       -0.6348783    9   \n",
              "25  0        0     1        0        0       0       0        1.7917595 1369   \n",
              "26  0        0     0        0        1       0       0        2.2575877    9   \n",
              "27  1        0     0        0        0       0       0        2.0515563  121   \n",
              "28  0        0     0        0        1       0       0        2.5257287  961   \n",
              "29  0        0     0        0        1       0       0        2.5257287  900   \n",
              "30  0        0     0        0        0       0       0        1.1786550   81   \n",
              "⋮   ⋮        ⋮     ⋮        ⋮        ⋮       ⋮       ⋮       ⋮          ⋮      \n",
              "497 0        0     0        0        1       0       0       2.5257287  1600   \n",
              "498 0        0     0        1        0       1       0       1.6389967  1521   \n",
              "499 0        1     0        0        0       0       1       1.1410331     1   \n",
              "500 1        0     0        0        0       0       0       1.9810015   196   \n",
              "501 0        0     0        1        0       1       0       1.0647107     4   \n",
              "502 0        1     0        0        0       0       1       0.5596158     4   \n",
              "503 0        0     1        0        0       0       0       1.0612565  1764   \n",
              "504 0        0     0        0        0       0       0       1.0647107  1156   \n",
              "505 0        0     0        0        1       0       0       2.8741293   100   \n",
              "506 1        0     0        0        0       0       1       1.8325815    16   \n",
              "507 0        1     0        0        0       0       0       0.9555114    16   \n",
              "508 0        0     0        1        1       0       0       1.8916048   441   \n",
              "509 0        0     1        0        0       0       0       1.2527629   961   \n",
              "510 0        1     0        0        0       0       0       1.8718022   400   \n",
              "511 0        0     1        0        0       0       0       1.0986123  1296   \n",
              "512 0        0     0        0        0       0       0       1.4770488    49   \n",
              "513 0        0     1        0        1       0       0       2.3025851   225   \n",
              "514 0        0     0        0        0       0       0       1.5993875   625   \n",
              "515 0        0     0        1        1       0       0       2.1972246    49   \n",
              "516 0        1     0        0        0       0       0       0.3576744   289   \n",
              "517 0        0     0        1        1       0       0       1.1249295     9   \n",
              "518 0        0     0        1        1       0       0       2.2332351   144   \n",
              "519 0        1     0        0        0       0       0       2.0149031   324   \n",
              "520 0        1     0        0        0       0       0       1.5581446  2209   \n",
              "521 0        0     0        0        0       0       0       1.7316556     4   \n",
              "522 0        0     0        1        1       0       0       2.7080503   196   \n",
              "523 0        1     0        0        1       0       0       0.8197798     4   \n",
              "524 0        0     0        0        1       0       0       1.5411590   169   \n",
              "525 0        0     0        0        0       0       0       2.4475510    25   \n",
              "526 0        0     0        1        0       1       0       1.2527629    25   \n",
              "    tenursq\n",
              "1     0    \n",
              "2     4    \n",
              "3     0    \n",
              "4   784    \n",
              "5     4    \n",
              "6    64    \n",
              "7    49    \n",
              "8     9    \n",
              "9    16    \n",
              "10  441    \n",
              "11    4    \n",
              "12    0    \n",
              "13    0    \n",
              "14    9    \n",
              "15  225    \n",
              "16    0    \n",
              "17    0    \n",
              "18  100    \n",
              "19    0    \n",
              "20   36    \n",
              "21   16    \n",
              "22  169    \n",
              "23   81    \n",
              "24    1    \n",
              "25   64    \n",
              "26    9    \n",
              "27  100    \n",
              "28    0    \n",
              "29    0    \n",
              "30    1    \n",
              "⋮   ⋮      \n",
              "497 900    \n",
              "498 441    \n",
              "499   1    \n",
              "500  25    \n",
              "501   4    \n",
              "502   1    \n",
              "503   0    \n",
              "504   0    \n",
              "505   9    \n",
              "506   9    \n",
              "507   0    \n",
              "508   9    \n",
              "509   9    \n",
              "510 196    \n",
              "511   1    \n",
              "512   0    \n",
              "513   0    \n",
              "514 289    \n",
              "515   0    \n",
              "516   0    \n",
              "517   1    \n",
              "518 121    \n",
              "519  25    \n",
              "520   1    \n",
              "521   0    \n",
              "522   4    \n",
              "523   0    \n",
              "524 324    \n",
              "525   1    \n",
              "526  16    "
            ]
          },
          "metadata": {}
        }
      ]
    },
    {
      "cell_type": "markdown",
      "source": [
        "Display a detailed description of the 'wage1' dataset"
      ],
      "metadata": {
        "id": "P8aduCD0vO5h"
      }
    },
    {
      "cell_type": "code",
      "source": [
        "?wage1"
      ],
      "metadata": {
        "id": "OuBPy1gWt5q5"
      },
      "execution_count": 4,
      "outputs": []
    }
  ]
}